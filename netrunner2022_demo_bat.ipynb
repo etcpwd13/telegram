{
  "nbformat": 4,
  "nbformat_minor": 0,
  "metadata": {
    "colab": {
      "name": "netrunner2022_demo_bat.ipynb",
      "provenance": [],
      "authorship_tag": "ABX9TyNK65nZZIAMFb2B9hDMeAcX",
      "include_colab_link": true
    },
    "kernelspec": {
      "name": "python3",
      "display_name": "Python 3"
    },
    "language_info": {
      "name": "python"
    }
  },
  "cells": [
    {
      "cell_type": "markdown",
      "metadata": {
        "id": "view-in-github",
        "colab_type": "text"
      },
      "source": [
        "<a href=\"https://colab.research.google.com/github/etcpwd13/telegram/blob/main/netrunner2022_demo_bat.ipynb\" target=\"_parent\"><img src=\"https://colab.research.google.com/assets/colab-badge.svg\" alt=\"Open In Colab\"/></a>"
      ]
    },
    {
      "cell_type": "markdown",
      "source": [
        "# Section 0 Telegram Automation Crash Course | Telegram Automation With Python\n",
        "https://www.youtube.com/watch?v=EQKGTpS8t9E\n",
        "\n",
        "API Docs: https://core.telegram.org/bots/api#"
      ],
      "metadata": {
        "id": "9jb9PuBwuc_y"
      }
    },
    {
      "cell_type": "markdown",
      "source": [
        "# Section 1\n",
        "Get Updates"
      ],
      "metadata": {
        "id": "9kzI4Th6uNhg"
      }
    },
    {
      "cell_type": "code",
      "execution_count": 28,
      "metadata": {
        "colab": {
          "base_uri": "https://localhost:8080/"
        },
        "outputId": "e147d3c5-b06f-40ed-f57c-617c09fceaaf",
        "id": "wIo3GSdFqDz5"
      },
      "outputs": [
        {
          "output_type": "stream",
          "name": "stdout",
          "text": [
            "{\"ok\":true,\"result\":[{\"update_id\":220726054,\n",
            "\"message\":{\"message_id\":145,\"from\":{\"id\":1668777554,\"is_bot\":false,\"first_name\":\"Torgrim J\",\"last_name\":\"J\",\"username\":\"torgrimjj\",\"language_code\":\"en\"},\"chat\":{\"id\":-607053399,\"title\":\"NetRunner2022\",\"type\":\"group\",\"all_members_are_administrators\":true},\"date\":1645677213,\"text\":\"two\"}},{\"update_id\":220726055,\n",
            "\"message\":{\"message_id\":146,\"from\":{\"id\":1668777554,\"is_bot\":false,\"first_name\":\"Torgrim J\",\"last_name\":\"J\",\"username\":\"torgrimjj\",\"language_code\":\"en\"},\"chat\":{\"id\":-607053399,\"title\":\"NetRunner2022\",\"type\":\"group\",\"all_members_are_administrators\":true},\"date\":1645677215,\"text\":\"three\"}},{\"update_id\":220726056,\n",
            "\"message\":{\"message_id\":147,\"from\":{\"id\":1668777554,\"is_bot\":false,\"first_name\":\"Torgrim J\",\"last_name\":\"J\",\"username\":\"torgrimjj\",\"language_code\":\"en\"},\"chat\":{\"id\":-607053399,\"title\":\"NetRunner2022\",\"type\":\"group\",\"all_members_are_administrators\":true},\"date\":1645677218,\"text\":\"four\"}},{\"update_id\":220726057,\n",
            "\"message\":{\"message_id\":148,\"from\":{\"id\":1668777554,\"is_bot\":false,\"first_name\":\"Torgrim J\",\"last_name\":\"J\",\"username\":\"torgrimjj\",\"language_code\":\"en\"},\"chat\":{\"id\":-607053399,\"title\":\"NetRunner2022\",\"type\":\"group\",\"all_members_are_administrators\":true},\"date\":1645677221,\"text\":\"five\"}},{\"update_id\":220726058,\n",
            "\"message\":{\"message_id\":150,\"from\":{\"id\":1668777554,\"is_bot\":false,\"first_name\":\"Torgrim J\",\"last_name\":\"J\",\"username\":\"torgrimjj\",\"language_code\":\"en\"},\"chat\":{\"id\":-607053399,\"title\":\"NetRunner2022\",\"type\":\"group\",\"all_members_are_administrators\":true},\"date\":1645678132,\"text\":\"new message\"}},{\"update_id\":220726059,\n",
            "\"message\":{\"message_id\":156,\"from\":{\"id\":1668777554,\"is_bot\":false,\"first_name\":\"Torgrim J\",\"last_name\":\"J\",\"username\":\"torgrimjj\",\"language_code\":\"en\"},\"chat\":{\"id\":-607053399,\"title\":\"NetRunner2022\",\"type\":\"group\",\"all_members_are_administrators\":true},\"date\":1645678845,\"text\":\"grettinh\"}}]}\n"
          ]
        }
      ],
      "source": [
        "import requests\n",
        "\n",
        "base_url = \"https://api.telegram.org/bot5252519849:AAEWUqMKt3DlpBstMOSUQ5oLpTKu4PQFBz8/getupdates\"\n",
        "parameters = {\n",
        "    \"offset\" : \"220726050\",\n",
        "    \"limit\" : \"200\"\n",
        "}\n",
        "\n",
        "resp = requests.get(base_url, data = parameters)\n",
        "print(resp.text)"
      ]
    },
    {
      "cell_type": "markdown",
      "source": [
        "# Section 2\n",
        "Loop through Send Mwssage"
      ],
      "metadata": {
        "id": "oKLUDxTwuCOR"
      }
    },
    {
      "cell_type": "code",
      "source": [
        "import requests\n",
        "import time\n",
        "\n",
        "base_url = \"https://api.telegram.org/bot5252519849:AAEWUqMKt3DlpBstMOSUQ5oLpTKu4PQFBz8/sendMessage\"\n",
        "\n",
        "jokes = [\"I just deleted all the German names off my phone. It's Hans free\",\n",
        "\"Kim Kardashian is saddled with a huge arse ... but enough about Kanye West\",\n",
        "\"Surely every car is a people carrier?\",\n",
        "\"What's the difference between a 'hippo' and a 'Zippo'? One is really heavy, the other is a little lighter\",\n",
        "\"If I could take just one thing to a desert island I probably wouldn't go\",\n",
        "\"Jesus fed 5,000 people with two fishes and a loaf of bread. That's not a miracle. That's tapas\",\n",
        "\"Red sky at night. Shepherd's delight. Blue sky at night.  Day\",\n",
        "\"The first time I met my wife, I knew she was a keeper.  She was wearing massive gloves\",\n",
        "\"Clowns divorce. Custardy battle\",\n",
        "\"They're always telling me to live my dreams. But I don't want to be naked in an exam I haven't revised for...\",\n",
        "\"I've decided to sell my Hoover... well, it was just collecting dust.\",\n",
        "\"I've written a joke about a fat badger, but I couldn't fit it into my set.\",\n",
        "\"Always leave them wanting more, my uncle used to say to me. Which is why he lost his job in disaster relief.\",\n",
        "\"I was given some Sudoku toilet paper. It didn't work. You could only fill it in with number ones and number twos.\",\n",
        "\"I wanted to do a show about feminism. But my husband wouldn't let me.\",\n",
        "\"Money can't buy you happiness? Well, check this out, I bought myself a Happy Meal.\",\n",
        "\"Scotland had oil, but it's running out thanks to all that deep frying.\",\n",
        "\"I've been married for 10 years, I haven't made a decision for seven.\",\n",
        "\"This show is about perception and perspective. But it depends how you look at it.\",\n",
        "\"I've written a joke about a fat badger, but I couldn't fit it into my set.\",\n",
        "\"I heard a rumour that Cadbury is bringing out an oriental chocolate bar. Could be a Chinese Wispa.\",\n",
        "\"I used to work in a shoe-recycling shop. It was sole-destroying.\",\n",
        "\"I'm in a same-sex marriage... the sex is always the same.\",\n",
        "\"My friend told me he was going to a fancy dress party as an Italian island. I said to him 'Don't be Sicily'.\",\n",
        "\"I can give you the cause of anaphylactic shock in a nutshell.\",\n",
        "\"The Pope is a lot like Doctor Who. He never dies, just keeps being replaced by white men.\",\n",
        "\"You know you are fat when you hug a child and it gets lost.\",\n",
        "\"The universe implodes. No matter.\",\n",
        "\"I was adopted at birth and have never met my mum. That makes it very difficult to enjoy any lapdance.\",\n",
        "\"The good thing about lending someone your time machine is that you basically get it back immediately.\",\n",
        "\"You know who really gives kids a bad name? Posh and Becks.\",\n",
        "\"Last night me and my girlfriend watched three DVDs back to back. Luckily I was the one facing the telly.\",\n",
        "\"I was raised as an only child, which really annoyed my sister.\",\n",
        "\"You know you're working class when your TV is bigger than your book case.\",\n",
        "\"I'm good friends with 25 letters of the alphabet... I don't know Y.\",\n",
        "\"I took part in the sun tanning Olympics - I just got Bronze.\",\n",
        "\"Pornography is often frowned upon, but that's only because I'm concentrating.\",\n",
        "\" I saw a documentary on how ships are kept together.  Riveting!\",\n",
        "\"I waited an hour for my starter so I complained: 'It's not rocket salad.\",\n",
        "\"My mum's so pessimistic, that if there was an Olympics for pessimism... she wouldn't fancy her chances.\",\n",
        "\"I needed a password eight characters long so I picked Snow White and the Seven Dwarves.\",\n",
        "\"Crime in multi-storey car parks. That is wrong on so many different levels.\"]\n",
        "\n",
        "for joke in jokes:\n",
        "  parameters = {\n",
        "    \"chat_id\" : \"-607053399\",\n",
        "    \"text\" : joke\n",
        "  }\n",
        "  \n",
        "  resp = requests.get(base_url, data = parameters)\n",
        "  print(resp.text)\n",
        "  time.sleep (360)"
      ],
      "metadata": {
        "colab": {
          "base_uri": "https://localhost:8080/",
          "height": 237
        },
        "id": "DIheeOCLutBC",
        "outputId": "7b3cc29b-71cd-47d8-ef5e-2f28c8042ad4"
      },
      "execution_count": 24,
      "outputs": [
        {
          "output_type": "stream",
          "name": "stdout",
          "text": [
            "{\"ok\":true,\"result\":{\"message_id\":149,\"from\":{\"id\":5252519849,\"is_bot\":true,\"first_name\":\"netrunner2022\",\"username\":\"NR2022_bot\"},\"chat\":{\"id\":-607053399,\"title\":\"NetRunner2022\",\"type\":\"group\",\"all_members_are_administrators\":true},\"date\":1645677984,\"text\":\"I just deleted all the German names off my phone. It's Hans free\"}}\n"
          ]
        },
        {
          "output_type": "error",
          "ename": "KeyboardInterrupt",
          "evalue": "ignored",
          "traceback": [
            "\u001b[0;31m---------------------------------------------------------------------------\u001b[0m",
            "\u001b[0;31mKeyboardInterrupt\u001b[0m                         Traceback (most recent call last)",
            "\u001b[0;32m<ipython-input-24-e7205c649cb1>\u001b[0m in \u001b[0;36m<module>\u001b[0;34m()\u001b[0m\n\u001b[1;32m     55\u001b[0m   \u001b[0mresp\u001b[0m \u001b[0;34m=\u001b[0m \u001b[0mrequests\u001b[0m\u001b[0;34m.\u001b[0m\u001b[0mget\u001b[0m\u001b[0;34m(\u001b[0m\u001b[0mbase_url\u001b[0m\u001b[0;34m,\u001b[0m \u001b[0mdata\u001b[0m \u001b[0;34m=\u001b[0m \u001b[0mparameters\u001b[0m\u001b[0;34m)\u001b[0m\u001b[0;34m\u001b[0m\u001b[0;34m\u001b[0m\u001b[0m\n\u001b[1;32m     56\u001b[0m   \u001b[0mprint\u001b[0m\u001b[0;34m(\u001b[0m\u001b[0mresp\u001b[0m\u001b[0;34m.\u001b[0m\u001b[0mtext\u001b[0m\u001b[0;34m)\u001b[0m\u001b[0;34m\u001b[0m\u001b[0;34m\u001b[0m\u001b[0m\n\u001b[0;32m---> 57\u001b[0;31m   \u001b[0mtime\u001b[0m\u001b[0;34m.\u001b[0m\u001b[0msleep\u001b[0m \u001b[0;34m(\u001b[0m\u001b[0;36m360\u001b[0m\u001b[0;34m)\u001b[0m\u001b[0;34m\u001b[0m\u001b[0;34m\u001b[0m\u001b[0m\n\u001b[0m",
            "\u001b[0;31mKeyboardInterrupt\u001b[0m: "
          ]
        }
      ]
    },
    {
      "cell_type": "markdown",
      "source": [
        "# Section 3\n",
        "Sending Photos\n"
      ],
      "metadata": {
        "id": "K7Kv7RSjuMqv"
      }
    },
    {
      "cell_type": "code",
      "source": [
        "import requests\n",
        "import time\n",
        "\n",
        "base_url = \"https://api.telegram.org/bot5252519849:AAEWUqMKt3DlpBstMOSUQ5oLpTKu4PQFBz8/sendPhoto\"\n",
        "\n",
        "urls = [\n",
        "        \"https://images.unsplash.com/photo-1551247360-cd6a95941a77?ixlib=rb-1.2.1&ixid=MnwxMjA3fDB8MHx0b3BpYy1mZWVkfDJ8NnNNVmpUTFNrZVF8fGVufDB8fHx8&auto=format&fit=crop&w=500&q=60\",\n",
        "        \"https://unsplash.com/photos/P3giKAFGoyU/download?ixid=MnwxMjA3fDB8MXx0b3BpY3x8NnNNVmpUTFNrZVF8fHx8fDJ8fDE2NDU2NTA3NDg&force=true\",\n",
        "        \"https://unsplash.com/photos/BwJ6f9diM18/download?ixid=MnwxMjA3fDB8MXx0b3BpY3x8NnNNVmpUTFNrZVF8fHx8fDJ8fDE2NDU2NTA3NDg&force=true\",\n",
        "        \"https://unsplash.com/photos/s972vo9-NV8/download?ixid=MnwxMjA3fDB8MXx0b3BpY3x8NnNNVmpUTFNrZVF8fHx8fDJ8fDE2NDU2NTA3NDg&force=true\"\n",
        "]\n",
        "\n",
        "for url in urls:\n",
        "  time.sleep(10)\n",
        "  parameters = {\n",
        "    \"chat_id\" : \"-607053399\",\n",
        "    \"photo\" : url,\n",
        "    \"caption\" : \"Fringe Science on the Rise with some nature photos\"\n",
        "\n",
        "    }\n",
        "\n",
        "  resp = requests.get(base_url, data = parameters)\n",
        "  print(resp.text)\n"
      ],
      "metadata": {
        "id": "hiaABD-xtw7N"
      },
      "execution_count": null,
      "outputs": []
    },
    {
      "cell_type": "markdown",
      "source": [
        "# Section 4\n",
        "Audio files\n"
      ],
      "metadata": {
        "id": "CuI2oVHzuKhE"
      }
    },
    {
      "cell_type": "code",
      "source": [
        "import requests\n",
        "import time\n",
        "\n",
        "base_url = \"https://api.telegram.org/bot5252519849:AAEWUqMKt3DlpBstMOSUQ5oLpTKu4PQFBz8/sendAudio\"\n",
        "\n",
        "urls = [\n",
        "        \"https://feeds.soundcloud.com/stream/557598642-unminus-sad-circus.mp3\"\n",
        "]\n",
        "\n",
        "for url in urls:\n",
        "  time.sleep(10)\n",
        "  parameters = {\n",
        "    \"chat_id\" : \"-607053399\",\n",
        "    \"audio\" : url,\n",
        "    \"caption\" : \"Some rock songs I like\"\n",
        "\n",
        "    }\n",
        "\n",
        "  resp = requests.get(base_url, data = parameters)\n",
        "  print(resp.text)\n"
      ],
      "metadata": {
        "id": "H91VuXMoIHxY"
      },
      "execution_count": null,
      "outputs": []
    },
    {
      "cell_type": "markdown",
      "source": [
        "# Section 5\n",
        "Audio file from local drive"
      ],
      "metadata": {
        "id": "QKgmXmx-vOtu"
      }
    },
    {
      "cell_type": "code",
      "source": [
        ""
      ],
      "metadata": {
        "id": "6j4wJ-J4vYBR"
      },
      "execution_count": null,
      "outputs": []
    },
    {
      "cell_type": "code",
      "source": [
        "import requests\n",
        "import time\n",
        "\n",
        "base_url = \"https://api.telegram.org/bot5252519849:AAEWUqMKt3DlpBstMOSUQ5oLpTKu4PQFBz8/sendAudio\"\n",
        "\n",
        "my_file = open(\"/content/sample_data/lonely-drunk-midnight-blues-15602.mp3\", \"rb\")\n",
        "\n",
        "parameters = {\n",
        "  \"chat_id\" : \"-607053399\",\n",
        "  \"caption\" : \"Some electric Blues songs I like\"\n",
        "  }\n",
        "\n",
        "files = {\n",
        "    \"audio\" : my_file\n",
        "}\n",
        "\n",
        "resp = requests.get(base_url, data = parameters, files = files)\n",
        "print(resp.text)\n"
      ],
      "metadata": {
        "id": "cxycJCXXvamj"
      },
      "execution_count": null,
      "outputs": []
    },
    {
      "cell_type": "markdown",
      "source": [
        "# Section 6\n",
        "Send a file to Telegram"
      ],
      "metadata": {
        "id": "nhYem8L52jyU"
      }
    },
    {
      "cell_type": "code",
      "source": [
        ""
      ],
      "metadata": {
        "id": "GXmdDQMG2sM9"
      },
      "execution_count": null,
      "outputs": []
    },
    {
      "cell_type": "code",
      "source": [
        "import requests\n",
        "import time\n",
        "\n",
        "base_url = \"https://api.telegram.org/bot5252519849:AAEWUqMKt3DlpBstMOSUQ5oLpTKu4PQFBz8/sendDocument\"\n",
        "\n",
        "my_file = open(\"/content/sample_data/mnist_train_small.csv\", \"rb\")\n",
        "\n",
        "parameters = {\n",
        "  \"chat_id\" : \"-607053399\",\n",
        "  \"caption\" : \"A CSV file about training\"\n",
        "  }\n",
        "\n",
        "files = {\n",
        "    \"document\" : my_file\n",
        "}\n",
        "\n",
        "resp = requests.get(base_url, data = parameters, files = files)\n",
        "print(resp.text)\n"
      ],
      "metadata": {
        "colab": {
          "base_uri": "https://localhost:8080/"
        },
        "outputId": "b1974b33-25e8-4519-e7aa-6e003558b2c2",
        "id": "aoLYgam_2tN0"
      },
      "execution_count": 5,
      "outputs": [
        {
          "output_type": "stream",
          "name": "stdout",
          "text": [
            "{\"ok\":true,\"result\":{\"message_id\":142,\"from\":{\"id\":5252519849,\"is_bot\":true,\"first_name\":\"netrunner2022\",\"username\":\"NR2022_bot\"},\"chat\":{\"id\":-607053399,\"title\":\"NetRunner2022\",\"type\":\"group\",\"all_members_are_administrators\":true},\"date\":1645674882,\"document\":{\"file_name\":\"mnist_train_small.csv\",\"mime_type\":\"text/csv\",\"file_id\":\"BQACAgEAAxkDAAOOYhcBgt3jFt8MYZfq7y3lp6y_ZVcAAt8DAAITuLlEA9ZWSM9CzVMjBA\",\"file_unique_id\":\"AgAD3wMAAhO4uUQ\",\"file_size\":36523880},\"caption\":\"A CSV file about training\"}}\n"
          ]
        }
      ]
    },
    {
      "cell_type": "markdown",
      "source": [
        "# Section 7\n",
        "Simple ChatBot with default answer"
      ],
      "metadata": {
        "id": "iqZJ-lgS7vjP"
      }
    },
    {
      "cell_type": "code",
      "execution_count": null,
      "metadata": {
        "id": "9iPgwFc-7-e7"
      },
      "outputs": [],
      "source": [
        "import requests\n",
        "\n",
        "base_url = \"https://api.telegram.org/bot5252519849:AAEWUqMKt3DlpBstMOSUQ5oLpTKu4PQFBz8\"\n",
        "\n",
        "def read_msg(offset):\n",
        "  parameters = {\n",
        "      \"offset\" : offset\n",
        "  }\n",
        "  resp = requests.get(base_url + \"/getUpdates\", data = parameters)\n",
        "  data = resp.json()\n",
        "\n",
        " #print(data)\n",
        "\n",
        "  for result in data[\"result\"]:\n",
        "    if \"hi\" in result[\"message\"][\"text\"]:\n",
        "      send_hello_msg()\n",
        "    else:\n",
        "      send_default_msg()\n",
        "\n",
        "  if data[\"result\"]:\n",
        "    return data[\"result\"][-1][\"update_id\"] +1\n",
        "\n",
        "\n",
        "def send_hello_msg():\n",
        "  parameters = {\n",
        "      \"chat_id\" : \"-607053399\",\n",
        "      \"text\" : \"Hello, Welcome to NetRunner2022\"\n",
        "  }\n",
        "  resp = requests.get(base_url + \"/sendMessage\", data = parameters)\n",
        "  print(resp.text)\n",
        "\n",
        "\n",
        "def send_default_msg():\n",
        "  parameters = {\n",
        "      \"chat_id\" : \"-607053399\",\n",
        "      \"text\" : \"NetRunner2022 did not understand the command\"\n",
        "  }\n",
        "\n",
        "  resp = requests.get(base_url + \"/sendMessage\", data = parameters)\n",
        "  print(resp.text)\n",
        "\n",
        "offset = 0\n",
        "\n",
        "while True:\n",
        "  offset = read_msg(offset)\n",
        "\n"
      ]
    },
    {
      "cell_type": "markdown",
      "source": [
        "# Section 8\n",
        "ChatBot with Q&A"
      ],
      "metadata": {
        "id": "Ja1dLKBeNrCq"
      }
    },
    {
      "cell_type": "code",
      "source": [
        "import requests\n",
        "import pandas as pd\n",
        "\n",
        "url = 'https://raw.githubusercontent.com/etcpwd13/telegram/main/chatbotqa.tsv'\n",
        "\n",
        "df = pd.read_csv(url, sep= \"\\t\")\n",
        "\n",
        "base_url = \"https://api.telegram.org/bot5252519849:AAEWUqMKt3DlpBstMOSUQ5oLpTKu4PQFBz8\"\n",
        "\n",
        "def read_msg(offset):\n",
        "  parameters = {\n",
        "      \"offset\" : offset\n",
        "  }\n",
        "\n",
        "  resp = requests.get(base_url + \"/getUpdates\", data = parameters)\n",
        "  data = resp.json()\n",
        "\n",
        "  print(data)\n",
        "\n",
        "  for result in data[\"result\"]:\n",
        "    send_msg(result[\"message\"][\"text\"])\n",
        "\n",
        "  if data[\"result\"]:\n",
        "    return data[\"result\"][-1][\"update_id\"] +1\n",
        "\n",
        "def auto_answer(message):\n",
        "  answer = df.loc[df['Question'].str.lower() == message.lower()]\n",
        "\n",
        "  if not answer.empty:\n",
        "    answer = answer.iloc[0]['Answer']\n",
        "    return answer\n",
        "  else:\n",
        "    return \"Sorry, I cant help you with that one. I am still learning and trying to get better at answering\"\n",
        "\n",
        "def send_msg(message):\n",
        "\n",
        "  answer = auto_answer(message)\n",
        "  \n",
        "  parameters = {\n",
        "      \"chat_id\" : \"-607053399\",\n",
        "      \"text\" : answer\n",
        "  }\n",
        "\n",
        "  resp = requests.get(base_url + \"/sendMessage\", data = parameters)\n",
        "  print(resp.text)\n",
        "\n",
        "offset = 0\n",
        "\n",
        "while True:\n",
        "  offset = read_msg(offset)\n"
      ],
      "metadata": {
        "colab": {
          "base_uri": "https://localhost:8080/",
          "height": 1000
        },
        "id": "jsTiXTWuNnwL",
        "outputId": "e2fab257-d482-45ca-99f3-af78d077ef5c"
      },
      "execution_count": 49,
      "outputs": [
        {
          "output_type": "stream",
          "name": "stdout",
          "text": [
            "{'ok': True, 'result': []}\n",
            "{'ok': True, 'result': []}\n",
            "{'ok': True, 'result': []}\n",
            "{'ok': True, 'result': []}\n",
            "{'ok': True, 'result': []}\n",
            "{'ok': True, 'result': [{'update_id': 220726091, 'message': {'message_id': 226, 'from': {'id': 1668777554, 'is_bot': False, 'first_name': 'Torgrim J', 'last_name': 'J', 'username': 'torgrimjj', 'language_code': 'en'}, 'chat': {'id': -607053399, 'title': 'NetRunner2022', 'type': 'group', 'all_members_are_administrators': True}, 'date': 1645683893, 'text': 'hi'}}]}\n",
            "{\"ok\":true,\"result\":{\"message_id\":227,\"from\":{\"id\":5252519849,\"is_bot\":true,\"first_name\":\"netrunner2022\",\"username\":\"NR2022_bot\"},\"chat\":{\"id\":-607053399,\"title\":\"NetRunner2022\",\"type\":\"group\",\"all_members_are_administrators\":true},\"date\":1645683894,\"text\":\"Hello.\"}}\n",
            "{'ok': True, 'result': []}\n",
            "{'ok': True, 'result': []}\n",
            "{'ok': True, 'result': []}\n",
            "{'ok': True, 'result': []}\n",
            "{'ok': True, 'result': []}\n",
            "{'ok': True, 'result': []}\n",
            "{'ok': True, 'result': [{'update_id': 220726092, 'message': {'message_id': 228, 'from': {'id': 1668777554, 'is_bot': False, 'first_name': 'Torgrim J', 'last_name': 'J', 'username': 'torgrimjj', 'language_code': 'en'}, 'chat': {'id': -607053399, 'title': 'NetRunner2022', 'type': 'group', 'all_members_are_administrators': True}, 'date': 1645683905, 'text': 'can you pee'}}]}\n",
            "{\"ok\":true,\"result\":{\"message_id\":229,\"from\":{\"id\":5252519849,\"is_bot\":true,\"first_name\":\"netrunner2022\",\"username\":\"NR2022_bot\"},\"chat\":{\"id\":-607053399,\"title\":\"NetRunner2022\",\"type\":\"group\",\"all_members_are_administrators\":true},\"date\":1645683906,\"text\":\"Sorry, I cant help you with that one. I am still learning and trying to get better at answering\"}}\n",
            "{'ok': True, 'result': []}\n",
            "{'ok': True, 'result': []}\n",
            "{'ok': True, 'result': []}\n",
            "{'ok': True, 'result': []}\n",
            "{'ok': True, 'result': []}\n",
            "{'ok': True, 'result': []}\n",
            "{'ok': True, 'result': [{'update_id': 220726093, 'message': {'message_id': 230, 'from': {'id': 1668777554, 'is_bot': False, 'first_name': 'Torgrim J', 'last_name': 'J', 'username': 'torgrimjj', 'language_code': 'en'}, 'chat': {'id': -607053399, 'title': 'NetRunner2022', 'type': 'group', 'all_members_are_administrators': True}, 'date': 1645683915, 'text': 'can you pee?'}}]}\n",
            "{\"ok\":true,\"result\":{\"message_id\":231,\"from\":{\"id\":5252519849,\"is_bot\":true,\"first_name\":\"netrunner2022\",\"username\":\"NR2022_bot\"},\"chat\":{\"id\":-607053399,\"title\":\"NetRunner2022\",\"type\":\"group\",\"all_members_are_administrators\":true},\"date\":1645683915,\"text\":\"I don't have a body.\"}}\n",
            "{'ok': True, 'result': []}\n",
            "{'ok': True, 'result': []}\n",
            "{'ok': True, 'result': []}\n",
            "{'ok': True, 'result': []}\n",
            "{'ok': True, 'result': []}\n",
            "{'ok': True, 'result': []}\n",
            "{'ok': True, 'result': []}\n",
            "{'ok': True, 'result': []}\n",
            "{'ok': True, 'result': []}\n",
            "{'ok': True, 'result': []}\n",
            "{'ok': True, 'result': [{'update_id': 220726094, 'message': {'message_id': 232, 'from': {'id': 1668777554, 'is_bot': False, 'first_name': 'Torgrim J', 'last_name': 'J', 'username': 'torgrimjj', 'language_code': 'en'}, 'chat': {'id': -607053399, 'title': 'NetRunner2022', 'type': 'group', 'all_members_are_administrators': True}, 'date': 1645683933, 'text': 'what is your name'}}]}\n",
            "{\"ok\":true,\"result\":{\"message_id\":233,\"from\":{\"id\":5252519849,\"is_bot\":true,\"first_name\":\"netrunner2022\",\"username\":\"NR2022_bot\"},\"chat\":{\"id\":-607053399,\"title\":\"NetRunner2022\",\"type\":\"group\",\"all_members_are_administrators\":true},\"date\":1645683934,\"text\":\"Sorry, I cant help you with that one. I am still learning and trying to get better at answering\"}}\n",
            "{'ok': True, 'result': []}\n",
            "{'ok': True, 'result': []}\n",
            "{'ok': True, 'result': []}\n",
            "{'ok': True, 'result': []}\n",
            "{'ok': True, 'result': []}\n",
            "{'ok': True, 'result': []}\n",
            "{'ok': True, 'result': []}\n",
            "{'ok': True, 'result': []}\n",
            "{'ok': True, 'result': []}\n",
            "{'ok': True, 'result': []}\n",
            "{'ok': True, 'result': []}\n",
            "{'ok': True, 'result': []}\n",
            "{'ok': True, 'result': []}\n",
            "{'ok': True, 'result': []}\n",
            "{'ok': True, 'result': []}\n",
            "{'ok': True, 'result': []}\n",
            "{'ok': True, 'result': []}\n",
            "{'ok': True, 'result': []}\n",
            "{'ok': True, 'result': []}\n",
            "{'ok': True, 'result': []}\n",
            "{'ok': True, 'result': []}\n",
            "{'ok': True, 'result': []}\n",
            "{'ok': True, 'result': []}\n",
            "{'ok': True, 'result': []}\n",
            "{'ok': True, 'result': []}\n",
            "{'ok': True, 'result': []}\n",
            "{'ok': True, 'result': []}\n",
            "{'ok': True, 'result': []}\n",
            "{'ok': True, 'result': [{'update_id': 220726095, 'message': {'message_id': 234, 'from': {'id': 1668777554, 'is_bot': False, 'first_name': 'Torgrim J', 'last_name': 'J', 'username': 'torgrimjj', 'language_code': 'en'}, 'chat': {'id': -607053399, 'title': 'NetRunner2022', 'type': 'group', 'all_members_are_administrators': True}, 'date': 1645683988, 'text': 'Who are you?'}}]}\n",
            "{\"ok\":true,\"result\":{\"message_id\":235,\"from\":{\"id\":5252519849,\"is_bot\":true,\"first_name\":\"netrunner2022\",\"username\":\"NR2022_bot\"},\"chat\":{\"id\":-607053399,\"title\":\"NetRunner2022\",\"type\":\"group\",\"all_members_are_administrators\":true},\"date\":1645683989,\"text\":\"I don't have a name.\"}}\n",
            "{'ok': True, 'result': []}\n",
            "{'ok': True, 'result': []}\n",
            "{'ok': True, 'result': []}\n",
            "{'ok': True, 'result': []}\n",
            "{'ok': True, 'result': []}\n",
            "{'ok': True, 'result': []}\n",
            "{'ok': True, 'result': []}\n",
            "{'ok': True, 'result': []}\n",
            "{'ok': True, 'result': []}\n",
            "{'ok': True, 'result': []}\n",
            "{'ok': True, 'result': []}\n",
            "{'ok': True, 'result': []}\n",
            "{'ok': True, 'result': []}\n",
            "{'ok': True, 'result': []}\n",
            "{'ok': True, 'result': []}\n",
            "{'ok': True, 'result': []}\n",
            "{'ok': True, 'result': []}\n",
            "{'ok': True, 'result': []}\n",
            "{'ok': True, 'result': []}\n",
            "{'ok': True, 'result': []}\n",
            "{'ok': True, 'result': []}\n",
            "{'ok': True, 'result': []}\n",
            "{'ok': True, 'result': []}\n",
            "{'ok': True, 'result': []}\n",
            "{'ok': True, 'result': []}\n",
            "{'ok': True, 'result': []}\n",
            "{'ok': True, 'result': []}\n",
            "{'ok': True, 'result': []}\n",
            "{'ok': True, 'result': []}\n",
            "{'ok': True, 'result': []}\n",
            "{'ok': True, 'result': []}\n",
            "{'ok': True, 'result': []}\n",
            "{'ok': True, 'result': []}\n",
            "{'ok': True, 'result': []}\n",
            "{'ok': True, 'result': []}\n",
            "{'ok': True, 'result': []}\n"
          ]
        },
        {
          "output_type": "error",
          "ename": "KeyboardInterrupt",
          "evalue": "ignored",
          "traceback": [
            "\u001b[0;31m---------------------------------------------------------------------------\u001b[0m",
            "\u001b[0;31mTypeError\u001b[0m                                 Traceback (most recent call last)",
            "\u001b[0;32m/usr/local/lib/python3.7/dist-packages/requests/adapters.py\u001b[0m in \u001b[0;36msend\u001b[0;34m(self, request, stream, timeout, verify, cert, proxies)\u001b[0m\n\u001b[1;32m    478\u001b[0m                         \u001b[0;31m# For Python 2.7, use buffering of HTTP responses\u001b[0m\u001b[0;34m\u001b[0m\u001b[0;34m\u001b[0m\u001b[0;34m\u001b[0m\u001b[0m\n\u001b[0;32m--> 479\u001b[0;31m                         \u001b[0mr\u001b[0m \u001b[0;34m=\u001b[0m \u001b[0mlow_conn\u001b[0m\u001b[0;34m.\u001b[0m\u001b[0mgetresponse\u001b[0m\u001b[0;34m(\u001b[0m\u001b[0mbuffering\u001b[0m\u001b[0;34m=\u001b[0m\u001b[0;32mTrue\u001b[0m\u001b[0;34m)\u001b[0m\u001b[0;34m\u001b[0m\u001b[0;34m\u001b[0m\u001b[0m\n\u001b[0m\u001b[1;32m    480\u001b[0m                     \u001b[0;32mexcept\u001b[0m \u001b[0mTypeError\u001b[0m\u001b[0;34m:\u001b[0m\u001b[0;34m\u001b[0m\u001b[0;34m\u001b[0m\u001b[0m\n",
            "\u001b[0;31mTypeError\u001b[0m: getresponse() got an unexpected keyword argument 'buffering'",
            "\nDuring handling of the above exception, another exception occurred:\n",
            "\u001b[0;31mKeyboardInterrupt\u001b[0m                         Traceback (most recent call last)",
            "\u001b[0;32m<ipython-input-49-a10bac0f85f1>\u001b[0m in \u001b[0;36m<module>\u001b[0;34m()\u001b[0m\n\u001b[1;32m     48\u001b[0m \u001b[0;34m\u001b[0m\u001b[0m\n\u001b[1;32m     49\u001b[0m \u001b[0;32mwhile\u001b[0m \u001b[0;32mTrue\u001b[0m\u001b[0;34m:\u001b[0m\u001b[0;34m\u001b[0m\u001b[0;34m\u001b[0m\u001b[0m\n\u001b[0;32m---> 50\u001b[0;31m   \u001b[0moffset\u001b[0m \u001b[0;34m=\u001b[0m \u001b[0mread_msg\u001b[0m\u001b[0;34m(\u001b[0m\u001b[0moffset\u001b[0m\u001b[0;34m)\u001b[0m\u001b[0;34m\u001b[0m\u001b[0;34m\u001b[0m\u001b[0m\n\u001b[0m",
            "\u001b[0;32m<ipython-input-49-a10bac0f85f1>\u001b[0m in \u001b[0;36mread_msg\u001b[0;34m(offset)\u001b[0m\n\u001b[1;32m     13\u001b[0m   }\n\u001b[1;32m     14\u001b[0m \u001b[0;34m\u001b[0m\u001b[0m\n\u001b[0;32m---> 15\u001b[0;31m   \u001b[0mresp\u001b[0m \u001b[0;34m=\u001b[0m \u001b[0mrequests\u001b[0m\u001b[0;34m.\u001b[0m\u001b[0mget\u001b[0m\u001b[0;34m(\u001b[0m\u001b[0mbase_url\u001b[0m \u001b[0;34m+\u001b[0m \u001b[0;34m\"/getUpdates\"\u001b[0m\u001b[0;34m,\u001b[0m \u001b[0mdata\u001b[0m \u001b[0;34m=\u001b[0m \u001b[0mparameters\u001b[0m\u001b[0;34m)\u001b[0m\u001b[0;34m\u001b[0m\u001b[0;34m\u001b[0m\u001b[0m\n\u001b[0m\u001b[1;32m     16\u001b[0m   \u001b[0mdata\u001b[0m \u001b[0;34m=\u001b[0m \u001b[0mresp\u001b[0m\u001b[0;34m.\u001b[0m\u001b[0mjson\u001b[0m\u001b[0;34m(\u001b[0m\u001b[0;34m)\u001b[0m\u001b[0;34m\u001b[0m\u001b[0;34m\u001b[0m\u001b[0m\n\u001b[1;32m     17\u001b[0m \u001b[0;34m\u001b[0m\u001b[0m\n",
            "\u001b[0;32m/usr/local/lib/python3.7/dist-packages/requests/api.py\u001b[0m in \u001b[0;36mget\u001b[0;34m(url, params, **kwargs)\u001b[0m\n\u001b[1;32m     74\u001b[0m \u001b[0;34m\u001b[0m\u001b[0m\n\u001b[1;32m     75\u001b[0m     \u001b[0mkwargs\u001b[0m\u001b[0;34m.\u001b[0m\u001b[0msetdefault\u001b[0m\u001b[0;34m(\u001b[0m\u001b[0;34m'allow_redirects'\u001b[0m\u001b[0;34m,\u001b[0m \u001b[0;32mTrue\u001b[0m\u001b[0;34m)\u001b[0m\u001b[0;34m\u001b[0m\u001b[0;34m\u001b[0m\u001b[0m\n\u001b[0;32m---> 76\u001b[0;31m     \u001b[0;32mreturn\u001b[0m \u001b[0mrequest\u001b[0m\u001b[0;34m(\u001b[0m\u001b[0;34m'get'\u001b[0m\u001b[0;34m,\u001b[0m \u001b[0murl\u001b[0m\u001b[0;34m,\u001b[0m \u001b[0mparams\u001b[0m\u001b[0;34m=\u001b[0m\u001b[0mparams\u001b[0m\u001b[0;34m,\u001b[0m \u001b[0;34m**\u001b[0m\u001b[0mkwargs\u001b[0m\u001b[0;34m)\u001b[0m\u001b[0;34m\u001b[0m\u001b[0;34m\u001b[0m\u001b[0m\n\u001b[0m\u001b[1;32m     77\u001b[0m \u001b[0;34m\u001b[0m\u001b[0m\n\u001b[1;32m     78\u001b[0m \u001b[0;34m\u001b[0m\u001b[0m\n",
            "\u001b[0;32m/usr/local/lib/python3.7/dist-packages/requests/api.py\u001b[0m in \u001b[0;36mrequest\u001b[0;34m(method, url, **kwargs)\u001b[0m\n\u001b[1;32m     59\u001b[0m     \u001b[0;31m# cases, and look like a memory leak in others.\u001b[0m\u001b[0;34m\u001b[0m\u001b[0;34m\u001b[0m\u001b[0;34m\u001b[0m\u001b[0m\n\u001b[1;32m     60\u001b[0m     \u001b[0;32mwith\u001b[0m \u001b[0msessions\u001b[0m\u001b[0;34m.\u001b[0m\u001b[0mSession\u001b[0m\u001b[0;34m(\u001b[0m\u001b[0;34m)\u001b[0m \u001b[0;32mas\u001b[0m \u001b[0msession\u001b[0m\u001b[0;34m:\u001b[0m\u001b[0;34m\u001b[0m\u001b[0;34m\u001b[0m\u001b[0m\n\u001b[0;32m---> 61\u001b[0;31m         \u001b[0;32mreturn\u001b[0m \u001b[0msession\u001b[0m\u001b[0;34m.\u001b[0m\u001b[0mrequest\u001b[0m\u001b[0;34m(\u001b[0m\u001b[0mmethod\u001b[0m\u001b[0;34m=\u001b[0m\u001b[0mmethod\u001b[0m\u001b[0;34m,\u001b[0m \u001b[0murl\u001b[0m\u001b[0;34m=\u001b[0m\u001b[0murl\u001b[0m\u001b[0;34m,\u001b[0m \u001b[0;34m**\u001b[0m\u001b[0mkwargs\u001b[0m\u001b[0;34m)\u001b[0m\u001b[0;34m\u001b[0m\u001b[0;34m\u001b[0m\u001b[0m\n\u001b[0m\u001b[1;32m     62\u001b[0m \u001b[0;34m\u001b[0m\u001b[0m\n\u001b[1;32m     63\u001b[0m \u001b[0;34m\u001b[0m\u001b[0m\n",
            "\u001b[0;32m/usr/local/lib/python3.7/dist-packages/requests/sessions.py\u001b[0m in \u001b[0;36mrequest\u001b[0;34m(self, method, url, params, data, headers, cookies, files, auth, timeout, allow_redirects, proxies, hooks, stream, verify, cert, json)\u001b[0m\n\u001b[1;32m    528\u001b[0m         }\n\u001b[1;32m    529\u001b[0m         \u001b[0msend_kwargs\u001b[0m\u001b[0;34m.\u001b[0m\u001b[0mupdate\u001b[0m\u001b[0;34m(\u001b[0m\u001b[0msettings\u001b[0m\u001b[0;34m)\u001b[0m\u001b[0;34m\u001b[0m\u001b[0;34m\u001b[0m\u001b[0m\n\u001b[0;32m--> 530\u001b[0;31m         \u001b[0mresp\u001b[0m \u001b[0;34m=\u001b[0m \u001b[0mself\u001b[0m\u001b[0;34m.\u001b[0m\u001b[0msend\u001b[0m\u001b[0;34m(\u001b[0m\u001b[0mprep\u001b[0m\u001b[0;34m,\u001b[0m \u001b[0;34m**\u001b[0m\u001b[0msend_kwargs\u001b[0m\u001b[0;34m)\u001b[0m\u001b[0;34m\u001b[0m\u001b[0;34m\u001b[0m\u001b[0m\n\u001b[0m\u001b[1;32m    531\u001b[0m \u001b[0;34m\u001b[0m\u001b[0m\n\u001b[1;32m    532\u001b[0m         \u001b[0;32mreturn\u001b[0m \u001b[0mresp\u001b[0m\u001b[0;34m\u001b[0m\u001b[0;34m\u001b[0m\u001b[0m\n",
            "\u001b[0;32m/usr/local/lib/python3.7/dist-packages/requests/sessions.py\u001b[0m in \u001b[0;36msend\u001b[0;34m(self, request, **kwargs)\u001b[0m\n\u001b[1;32m    641\u001b[0m \u001b[0;34m\u001b[0m\u001b[0m\n\u001b[1;32m    642\u001b[0m         \u001b[0;31m# Send the request\u001b[0m\u001b[0;34m\u001b[0m\u001b[0;34m\u001b[0m\u001b[0;34m\u001b[0m\u001b[0m\n\u001b[0;32m--> 643\u001b[0;31m         \u001b[0mr\u001b[0m \u001b[0;34m=\u001b[0m \u001b[0madapter\u001b[0m\u001b[0;34m.\u001b[0m\u001b[0msend\u001b[0m\u001b[0;34m(\u001b[0m\u001b[0mrequest\u001b[0m\u001b[0;34m,\u001b[0m \u001b[0;34m**\u001b[0m\u001b[0mkwargs\u001b[0m\u001b[0;34m)\u001b[0m\u001b[0;34m\u001b[0m\u001b[0;34m\u001b[0m\u001b[0m\n\u001b[0m\u001b[1;32m    644\u001b[0m \u001b[0;34m\u001b[0m\u001b[0m\n\u001b[1;32m    645\u001b[0m         \u001b[0;31m# Total elapsed time of the request (approximately)\u001b[0m\u001b[0;34m\u001b[0m\u001b[0;34m\u001b[0m\u001b[0;34m\u001b[0m\u001b[0m\n",
            "\u001b[0;32m/usr/local/lib/python3.7/dist-packages/requests/adapters.py\u001b[0m in \u001b[0;36msend\u001b[0;34m(self, request, stream, timeout, verify, cert, proxies)\u001b[0m\n\u001b[1;32m    480\u001b[0m                     \u001b[0;32mexcept\u001b[0m \u001b[0mTypeError\u001b[0m\u001b[0;34m:\u001b[0m\u001b[0;34m\u001b[0m\u001b[0;34m\u001b[0m\u001b[0m\n\u001b[1;32m    481\u001b[0m                         \u001b[0;31m# For compatibility with Python 3.3+\u001b[0m\u001b[0;34m\u001b[0m\u001b[0;34m\u001b[0m\u001b[0;34m\u001b[0m\u001b[0m\n\u001b[0;32m--> 482\u001b[0;31m                         \u001b[0mr\u001b[0m \u001b[0;34m=\u001b[0m \u001b[0mlow_conn\u001b[0m\u001b[0;34m.\u001b[0m\u001b[0mgetresponse\u001b[0m\u001b[0;34m(\u001b[0m\u001b[0;34m)\u001b[0m\u001b[0;34m\u001b[0m\u001b[0;34m\u001b[0m\u001b[0m\n\u001b[0m\u001b[1;32m    483\u001b[0m \u001b[0;34m\u001b[0m\u001b[0m\n\u001b[1;32m    484\u001b[0m                     resp = HTTPResponse.from_httplib(\n",
            "\u001b[0;32m/usr/lib/python3.7/http/client.py\u001b[0m in \u001b[0;36mgetresponse\u001b[0;34m(self)\u001b[0m\n\u001b[1;32m   1371\u001b[0m         \u001b[0;32mtry\u001b[0m\u001b[0;34m:\u001b[0m\u001b[0;34m\u001b[0m\u001b[0;34m\u001b[0m\u001b[0m\n\u001b[1;32m   1372\u001b[0m             \u001b[0;32mtry\u001b[0m\u001b[0;34m:\u001b[0m\u001b[0;34m\u001b[0m\u001b[0;34m\u001b[0m\u001b[0m\n\u001b[0;32m-> 1373\u001b[0;31m                 \u001b[0mresponse\u001b[0m\u001b[0;34m.\u001b[0m\u001b[0mbegin\u001b[0m\u001b[0;34m(\u001b[0m\u001b[0;34m)\u001b[0m\u001b[0;34m\u001b[0m\u001b[0;34m\u001b[0m\u001b[0m\n\u001b[0m\u001b[1;32m   1374\u001b[0m             \u001b[0;32mexcept\u001b[0m \u001b[0mConnectionError\u001b[0m\u001b[0;34m:\u001b[0m\u001b[0;34m\u001b[0m\u001b[0;34m\u001b[0m\u001b[0m\n\u001b[1;32m   1375\u001b[0m                 \u001b[0mself\u001b[0m\u001b[0;34m.\u001b[0m\u001b[0mclose\u001b[0m\u001b[0;34m(\u001b[0m\u001b[0;34m)\u001b[0m\u001b[0;34m\u001b[0m\u001b[0;34m\u001b[0m\u001b[0m\n",
            "\u001b[0;32m/usr/lib/python3.7/http/client.py\u001b[0m in \u001b[0;36mbegin\u001b[0;34m(self)\u001b[0m\n\u001b[1;32m    317\u001b[0m         \u001b[0;31m# read until we get a non-100 response\u001b[0m\u001b[0;34m\u001b[0m\u001b[0;34m\u001b[0m\u001b[0;34m\u001b[0m\u001b[0m\n\u001b[1;32m    318\u001b[0m         \u001b[0;32mwhile\u001b[0m \u001b[0;32mTrue\u001b[0m\u001b[0;34m:\u001b[0m\u001b[0;34m\u001b[0m\u001b[0;34m\u001b[0m\u001b[0m\n\u001b[0;32m--> 319\u001b[0;31m             \u001b[0mversion\u001b[0m\u001b[0;34m,\u001b[0m \u001b[0mstatus\u001b[0m\u001b[0;34m,\u001b[0m \u001b[0mreason\u001b[0m \u001b[0;34m=\u001b[0m \u001b[0mself\u001b[0m\u001b[0;34m.\u001b[0m\u001b[0m_read_status\u001b[0m\u001b[0;34m(\u001b[0m\u001b[0;34m)\u001b[0m\u001b[0;34m\u001b[0m\u001b[0;34m\u001b[0m\u001b[0m\n\u001b[0m\u001b[1;32m    320\u001b[0m             \u001b[0;32mif\u001b[0m \u001b[0mstatus\u001b[0m \u001b[0;34m!=\u001b[0m \u001b[0mCONTINUE\u001b[0m\u001b[0;34m:\u001b[0m\u001b[0;34m\u001b[0m\u001b[0;34m\u001b[0m\u001b[0m\n\u001b[1;32m    321\u001b[0m                 \u001b[0;32mbreak\u001b[0m\u001b[0;34m\u001b[0m\u001b[0;34m\u001b[0m\u001b[0m\n",
            "\u001b[0;32m/usr/lib/python3.7/http/client.py\u001b[0m in \u001b[0;36m_read_status\u001b[0;34m(self)\u001b[0m\n\u001b[1;32m    278\u001b[0m \u001b[0;34m\u001b[0m\u001b[0m\n\u001b[1;32m    279\u001b[0m     \u001b[0;32mdef\u001b[0m \u001b[0m_read_status\u001b[0m\u001b[0;34m(\u001b[0m\u001b[0mself\u001b[0m\u001b[0;34m)\u001b[0m\u001b[0;34m:\u001b[0m\u001b[0;34m\u001b[0m\u001b[0;34m\u001b[0m\u001b[0m\n\u001b[0;32m--> 280\u001b[0;31m         \u001b[0mline\u001b[0m \u001b[0;34m=\u001b[0m \u001b[0mstr\u001b[0m\u001b[0;34m(\u001b[0m\u001b[0mself\u001b[0m\u001b[0;34m.\u001b[0m\u001b[0mfp\u001b[0m\u001b[0;34m.\u001b[0m\u001b[0mreadline\u001b[0m\u001b[0;34m(\u001b[0m\u001b[0m_MAXLINE\u001b[0m \u001b[0;34m+\u001b[0m \u001b[0;36m1\u001b[0m\u001b[0;34m)\u001b[0m\u001b[0;34m,\u001b[0m \u001b[0;34m\"iso-8859-1\"\u001b[0m\u001b[0;34m)\u001b[0m\u001b[0;34m\u001b[0m\u001b[0;34m\u001b[0m\u001b[0m\n\u001b[0m\u001b[1;32m    281\u001b[0m         \u001b[0;32mif\u001b[0m \u001b[0mlen\u001b[0m\u001b[0;34m(\u001b[0m\u001b[0mline\u001b[0m\u001b[0;34m)\u001b[0m \u001b[0;34m>\u001b[0m \u001b[0m_MAXLINE\u001b[0m\u001b[0;34m:\u001b[0m\u001b[0;34m\u001b[0m\u001b[0;34m\u001b[0m\u001b[0m\n\u001b[1;32m    282\u001b[0m             \u001b[0;32mraise\u001b[0m \u001b[0mLineTooLong\u001b[0m\u001b[0;34m(\u001b[0m\u001b[0;34m\"status line\"\u001b[0m\u001b[0;34m)\u001b[0m\u001b[0;34m\u001b[0m\u001b[0;34m\u001b[0m\u001b[0m\n",
            "\u001b[0;32m/usr/lib/python3.7/socket.py\u001b[0m in \u001b[0;36mreadinto\u001b[0;34m(self, b)\u001b[0m\n\u001b[1;32m    587\u001b[0m         \u001b[0;32mwhile\u001b[0m \u001b[0;32mTrue\u001b[0m\u001b[0;34m:\u001b[0m\u001b[0;34m\u001b[0m\u001b[0;34m\u001b[0m\u001b[0m\n\u001b[1;32m    588\u001b[0m             \u001b[0;32mtry\u001b[0m\u001b[0;34m:\u001b[0m\u001b[0;34m\u001b[0m\u001b[0;34m\u001b[0m\u001b[0m\n\u001b[0;32m--> 589\u001b[0;31m                 \u001b[0;32mreturn\u001b[0m \u001b[0mself\u001b[0m\u001b[0;34m.\u001b[0m\u001b[0m_sock\u001b[0m\u001b[0;34m.\u001b[0m\u001b[0mrecv_into\u001b[0m\u001b[0;34m(\u001b[0m\u001b[0mb\u001b[0m\u001b[0;34m)\u001b[0m\u001b[0;34m\u001b[0m\u001b[0;34m\u001b[0m\u001b[0m\n\u001b[0m\u001b[1;32m    590\u001b[0m             \u001b[0;32mexcept\u001b[0m \u001b[0mtimeout\u001b[0m\u001b[0;34m:\u001b[0m\u001b[0;34m\u001b[0m\u001b[0;34m\u001b[0m\u001b[0m\n\u001b[1;32m    591\u001b[0m                 \u001b[0mself\u001b[0m\u001b[0;34m.\u001b[0m\u001b[0m_timeout_occurred\u001b[0m \u001b[0;34m=\u001b[0m \u001b[0;32mTrue\u001b[0m\u001b[0;34m\u001b[0m\u001b[0;34m\u001b[0m\u001b[0m\n",
            "\u001b[0;32m/usr/lib/python3.7/ssl.py\u001b[0m in \u001b[0;36mrecv_into\u001b[0;34m(self, buffer, nbytes, flags)\u001b[0m\n\u001b[1;32m   1069\u001b[0m                   \u001b[0;34m\"non-zero flags not allowed in calls to recv_into() on %s\"\u001b[0m \u001b[0;34m%\u001b[0m\u001b[0;34m\u001b[0m\u001b[0;34m\u001b[0m\u001b[0m\n\u001b[1;32m   1070\u001b[0m                   self.__class__)\n\u001b[0;32m-> 1071\u001b[0;31m             \u001b[0;32mreturn\u001b[0m \u001b[0mself\u001b[0m\u001b[0;34m.\u001b[0m\u001b[0mread\u001b[0m\u001b[0;34m(\u001b[0m\u001b[0mnbytes\u001b[0m\u001b[0;34m,\u001b[0m \u001b[0mbuffer\u001b[0m\u001b[0;34m)\u001b[0m\u001b[0;34m\u001b[0m\u001b[0;34m\u001b[0m\u001b[0m\n\u001b[0m\u001b[1;32m   1072\u001b[0m         \u001b[0;32melse\u001b[0m\u001b[0;34m:\u001b[0m\u001b[0;34m\u001b[0m\u001b[0;34m\u001b[0m\u001b[0m\n\u001b[1;32m   1073\u001b[0m             \u001b[0;32mreturn\u001b[0m \u001b[0msuper\u001b[0m\u001b[0;34m(\u001b[0m\u001b[0;34m)\u001b[0m\u001b[0;34m.\u001b[0m\u001b[0mrecv_into\u001b[0m\u001b[0;34m(\u001b[0m\u001b[0mbuffer\u001b[0m\u001b[0;34m,\u001b[0m \u001b[0mnbytes\u001b[0m\u001b[0;34m,\u001b[0m \u001b[0mflags\u001b[0m\u001b[0;34m)\u001b[0m\u001b[0;34m\u001b[0m\u001b[0;34m\u001b[0m\u001b[0m\n",
            "\u001b[0;32m/usr/lib/python3.7/ssl.py\u001b[0m in \u001b[0;36mread\u001b[0;34m(self, len, buffer)\u001b[0m\n\u001b[1;32m    927\u001b[0m         \u001b[0;32mtry\u001b[0m\u001b[0;34m:\u001b[0m\u001b[0;34m\u001b[0m\u001b[0;34m\u001b[0m\u001b[0m\n\u001b[1;32m    928\u001b[0m             \u001b[0;32mif\u001b[0m \u001b[0mbuffer\u001b[0m \u001b[0;32mis\u001b[0m \u001b[0;32mnot\u001b[0m \u001b[0;32mNone\u001b[0m\u001b[0;34m:\u001b[0m\u001b[0;34m\u001b[0m\u001b[0;34m\u001b[0m\u001b[0m\n\u001b[0;32m--> 929\u001b[0;31m                 \u001b[0;32mreturn\u001b[0m \u001b[0mself\u001b[0m\u001b[0;34m.\u001b[0m\u001b[0m_sslobj\u001b[0m\u001b[0;34m.\u001b[0m\u001b[0mread\u001b[0m\u001b[0;34m(\u001b[0m\u001b[0mlen\u001b[0m\u001b[0;34m,\u001b[0m \u001b[0mbuffer\u001b[0m\u001b[0;34m)\u001b[0m\u001b[0;34m\u001b[0m\u001b[0;34m\u001b[0m\u001b[0m\n\u001b[0m\u001b[1;32m    930\u001b[0m             \u001b[0;32melse\u001b[0m\u001b[0;34m:\u001b[0m\u001b[0;34m\u001b[0m\u001b[0;34m\u001b[0m\u001b[0m\n\u001b[1;32m    931\u001b[0m                 \u001b[0;32mreturn\u001b[0m \u001b[0mself\u001b[0m\u001b[0;34m.\u001b[0m\u001b[0m_sslobj\u001b[0m\u001b[0;34m.\u001b[0m\u001b[0mread\u001b[0m\u001b[0;34m(\u001b[0m\u001b[0mlen\u001b[0m\u001b[0;34m)\u001b[0m\u001b[0;34m\u001b[0m\u001b[0;34m\u001b[0m\u001b[0m\n",
            "\u001b[0;31mKeyboardInterrupt\u001b[0m: "
          ]
        }
      ]
    }
  ]
}